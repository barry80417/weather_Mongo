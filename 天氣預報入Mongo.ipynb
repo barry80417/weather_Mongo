{
 "cells": [
  {
   "cell_type": "code",
   "execution_count": 62,
   "metadata": {},
   "outputs": [],
   "source": [
    "import pymongo\n",
    "import pandas as pd"
   ]
  },
  {
   "cell_type": "markdown",
   "metadata": {},
   "source": [
    "### 下載檔案"
   ]
  },
  {
   "cell_type": "code",
   "execution_count": 2,
   "metadata": {},
   "outputs": [
    {
     "data": {
      "text/plain": [
       "('./data/F-D0047-093.zip', <http.client.HTTPMessage at 0x7fc0a0bb9410>)"
      ]
     },
     "execution_count": 2,
     "metadata": {},
     "output_type": "execute_result"
    }
   ],
   "source": [
    "import urllib.request\n",
    "res = \"https://opendata.cwb.gov.tw/fileapi/v1/opendataapi/F-D0047-093?Authorization=CWB-73638260-F88A-444D-837B-498A220E9B8E&downloadType=WEB&format=ZIP\"\n",
    "urllib.request.urlretrieve(res, './data/F-D0047-093.zip')"
   ]
  },
  {
   "cell_type": "markdown",
   "metadata": {},
   "source": [
    "### 解壓縮"
   ]
  },
  {
   "cell_type": "code",
   "execution_count": 3,
   "metadata": {},
   "outputs": [],
   "source": [
    "import zipfile\n",
    "f = zipfile.ZipFile('./data/F-D0047-093.zip')\n",
    "f.extractall('./data')"
   ]
  },
  {
   "cell_type": "markdown",
   "metadata": {},
   "source": [
    "### 抓所有名為xxxx_Week24_CH的檔案"
   ]
  },
  {
   "cell_type": "code",
   "execution_count": 4,
   "metadata": {},
   "outputs": [],
   "source": [
    "import os\n",
    "data = []\n",
    "path = './data/'\n",
    "file = os.listdir(path)\n",
    "file.remove('TAIWAN_Week24_CH.xml')\n",
    "for k in file:\n",
    "    if '_Week24_CH' in k:\n",
    "        data.append(k)"
   ]
  },
  {
   "cell_type": "markdown",
   "metadata": {},
   "source": [
    "### 迴圈將資料抓進Dict"
   ]
  },
  {
   "cell_type": "code",
   "execution_count": 94,
   "metadata": {},
   "outputs": [],
   "source": [
    "from bs4 import BeautifulSoup\n",
    "import xmltodict\n",
    "city = []\n",
    "town = []\n",
    "date = []\n",
    "temp = []\n",
    "for l in data:\n",
    "    fh = open(path+l, \"r\")\n",
    "    xml = fh.read()\n",
    "    d = dict(xmltodict.parse(xml))\n",
    "    soup = BeautifulSoup(xml,'xml')\n",
    "    for j in range(0,len(soup.find_all('locationName'))):        \n",
    "        all_avg_temp = []\n",
    "        for i in range(0,6):\n",
    "            city.append(d['cwbopendata']['dataset']['locations']['locationsName'])\n",
    "            town.append(d['cwbopendata']['dataset']['locations']['location'][j]['locationName'])\n",
    "            date.append(d['cwbopendata']['dataset']['locations']['location'][j]['weatherElement'][k]['time'][i]['startTime'][:10])\n",
    "            temp.append(d['cwbopendata']['dataset']['locations']['location'][j]['weatherElement'][k]['time'][i]['elementValue']['value'])\n",
    "result = {\n",
    "    'city':city,\n",
    "    'town':town,\n",
    "    'date':date,\n",
    "    'temp':temp\n",
    "}"
   ]
  },
  {
   "cell_type": "code",
   "execution_count": 95,
   "metadata": {},
   "outputs": [
    {
     "data": {
      "text/html": [
       "<div>\n",
       "<style scoped>\n",
       "    .dataframe tbody tr th:only-of-type {\n",
       "        vertical-align: middle;\n",
       "    }\n",
       "\n",
       "    .dataframe tbody tr th {\n",
       "        vertical-align: top;\n",
       "    }\n",
       "\n",
       "    .dataframe thead th {\n",
       "        text-align: right;\n",
       "    }\n",
       "</style>\n",
       "<table border=\"1\" class=\"dataframe\">\n",
       "  <thead>\n",
       "    <tr style=\"text-align: right;\">\n",
       "      <th></th>\n",
       "      <th>city</th>\n",
       "      <th>town</th>\n",
       "      <th>date</th>\n",
       "      <th>temp</th>\n",
       "    </tr>\n",
       "  </thead>\n",
       "  <tbody>\n",
       "    <tr>\n",
       "      <th>0</th>\n",
       "      <td>桃園市</td>\n",
       "      <td>桃園區</td>\n",
       "      <td>2022-08-16</td>\n",
       "      <td>34</td>\n",
       "    </tr>\n",
       "    <tr>\n",
       "      <th>1</th>\n",
       "      <td>桃園市</td>\n",
       "      <td>桃園區</td>\n",
       "      <td>2022-08-17</td>\n",
       "      <td>32</td>\n",
       "    </tr>\n",
       "    <tr>\n",
       "      <th>2</th>\n",
       "      <td>桃園市</td>\n",
       "      <td>桃園區</td>\n",
       "      <td>2022-08-18</td>\n",
       "      <td>32</td>\n",
       "    </tr>\n",
       "    <tr>\n",
       "      <th>3</th>\n",
       "      <td>桃園市</td>\n",
       "      <td>桃園區</td>\n",
       "      <td>2022-08-19</td>\n",
       "      <td>32</td>\n",
       "    </tr>\n",
       "    <tr>\n",
       "      <th>4</th>\n",
       "      <td>桃園市</td>\n",
       "      <td>桃園區</td>\n",
       "      <td>2022-08-20</td>\n",
       "      <td>31</td>\n",
       "    </tr>\n",
       "    <tr>\n",
       "      <th>...</th>\n",
       "      <td>...</td>\n",
       "      <td>...</td>\n",
       "      <td>...</td>\n",
       "      <td>...</td>\n",
       "    </tr>\n",
       "    <tr>\n",
       "      <th>2203</th>\n",
       "      <td>南投縣</td>\n",
       "      <td>仁愛鄉</td>\n",
       "      <td>2022-08-17</td>\n",
       "      <td>20</td>\n",
       "    </tr>\n",
       "    <tr>\n",
       "      <th>2204</th>\n",
       "      <td>南投縣</td>\n",
       "      <td>仁愛鄉</td>\n",
       "      <td>2022-08-18</td>\n",
       "      <td>20</td>\n",
       "    </tr>\n",
       "    <tr>\n",
       "      <th>2205</th>\n",
       "      <td>南投縣</td>\n",
       "      <td>仁愛鄉</td>\n",
       "      <td>2022-08-19</td>\n",
       "      <td>20</td>\n",
       "    </tr>\n",
       "    <tr>\n",
       "      <th>2206</th>\n",
       "      <td>南投縣</td>\n",
       "      <td>仁愛鄉</td>\n",
       "      <td>2022-08-20</td>\n",
       "      <td>20</td>\n",
       "    </tr>\n",
       "    <tr>\n",
       "      <th>2207</th>\n",
       "      <td>南投縣</td>\n",
       "      <td>仁愛鄉</td>\n",
       "      <td>2022-08-21</td>\n",
       "      <td>20</td>\n",
       "    </tr>\n",
       "  </tbody>\n",
       "</table>\n",
       "<p>2208 rows × 4 columns</p>\n",
       "</div>"
      ],
      "text/plain": [
       "     city town        date temp\n",
       "0     桃園市  桃園區  2022-08-16   34\n",
       "1     桃園市  桃園區  2022-08-17   32\n",
       "2     桃園市  桃園區  2022-08-18   32\n",
       "3     桃園市  桃園區  2022-08-19   32\n",
       "4     桃園市  桃園區  2022-08-20   31\n",
       "...   ...  ...         ...  ...\n",
       "2203  南投縣  仁愛鄉  2022-08-17   20\n",
       "2204  南投縣  仁愛鄉  2022-08-18   20\n",
       "2205  南投縣  仁愛鄉  2022-08-19   20\n",
       "2206  南投縣  仁愛鄉  2022-08-20   20\n",
       "2207  南投縣  仁愛鄉  2022-08-21   20\n",
       "\n",
       "[2208 rows x 4 columns]"
      ]
     },
     "execution_count": 95,
     "metadata": {},
     "output_type": "execute_result"
    }
   ],
   "source": [
    "df = pd.DataFrame(result)\n",
    "df"
   ]
  },
  {
   "cell_type": "markdown",
   "metadata": {},
   "source": [
    "### 開檔/讀檔"
   ]
  },
  {
   "cell_type": "code",
   "execution_count": 96,
   "metadata": {},
   "outputs": [],
   "source": [
    "## 建立 MongoDB 連線\n",
    "\n",
    "client = pymongo.MongoClient('localhost', 27017)"
   ]
  },
  {
   "cell_type": "markdown",
   "metadata": {},
   "source": [
    "### 將 DataFrame 插入 Mongo"
   ]
  },
  {
   "cell_type": "code",
   "execution_count": 97,
   "metadata": {},
   "outputs": [
    {
     "data": {
      "text/plain": [
       "<pymongo.results.InsertManyResult at 0x7fc0a598ca50>"
      ]
     },
     "execution_count": 97,
     "metadata": {},
     "output_type": "execute_result"
    }
   ],
   "source": [
    "database = client[\"mongo-sample\"] # SQL: Database Name \n",
    "collection = database[\"Week24_temp\"] # SQL: Table Name\n",
    "\n",
    "records = df.to_dict('records') \n",
    "collection.insert_many(records)"
   ]
  },
  {
   "cell_type": "markdown",
   "metadata": {},
   "source": [
    "### 將 Mongo 存入 Pandas"
   ]
  },
  {
   "cell_type": "code",
   "execution_count": 98,
   "metadata": {},
   "outputs": [
    {
     "data": {
      "text/html": [
       "<div>\n",
       "<style scoped>\n",
       "    .dataframe tbody tr th:only-of-type {\n",
       "        vertical-align: middle;\n",
       "    }\n",
       "\n",
       "    .dataframe tbody tr th {\n",
       "        vertical-align: top;\n",
       "    }\n",
       "\n",
       "    .dataframe thead th {\n",
       "        text-align: right;\n",
       "    }\n",
       "</style>\n",
       "<table border=\"1\" class=\"dataframe\">\n",
       "  <thead>\n",
       "    <tr style=\"text-align: right;\">\n",
       "      <th></th>\n",
       "      <th>_id</th>\n",
       "      <th>city</th>\n",
       "      <th>town</th>\n",
       "      <th>date</th>\n",
       "      <th>temp</th>\n",
       "    </tr>\n",
       "  </thead>\n",
       "  <tbody>\n",
       "    <tr>\n",
       "      <th>0</th>\n",
       "      <td>62fb330c3e3ed0612fbc9762</td>\n",
       "      <td>桃園市</td>\n",
       "      <td>桃園區</td>\n",
       "      <td>2022-08-19</td>\n",
       "      <td>32</td>\n",
       "    </tr>\n",
       "    <tr>\n",
       "      <th>1</th>\n",
       "      <td>62fb330c3e3ed0612fbc9768</td>\n",
       "      <td>桃園市</td>\n",
       "      <td>中壢區</td>\n",
       "      <td>2022-08-19</td>\n",
       "      <td>31</td>\n",
       "    </tr>\n",
       "    <tr>\n",
       "      <th>2</th>\n",
       "      <td>62fb330c3e3ed0612fbc976e</td>\n",
       "      <td>桃園市</td>\n",
       "      <td>大溪區</td>\n",
       "      <td>2022-08-19</td>\n",
       "      <td>30</td>\n",
       "    </tr>\n",
       "    <tr>\n",
       "      <th>3</th>\n",
       "      <td>62fb330c3e3ed0612fbc9774</td>\n",
       "      <td>桃園市</td>\n",
       "      <td>楊梅區</td>\n",
       "      <td>2022-08-19</td>\n",
       "      <td>29</td>\n",
       "    </tr>\n",
       "    <tr>\n",
       "      <th>4</th>\n",
       "      <td>62fb330c3e3ed0612fbc977a</td>\n",
       "      <td>桃園市</td>\n",
       "      <td>蘆竹區</td>\n",
       "      <td>2022-08-19</td>\n",
       "      <td>32</td>\n",
       "    </tr>\n",
       "    <tr>\n",
       "      <th>...</th>\n",
       "      <td>...</td>\n",
       "      <td>...</td>\n",
       "      <td>...</td>\n",
       "      <td>...</td>\n",
       "      <td>...</td>\n",
       "    </tr>\n",
       "    <tr>\n",
       "      <th>363</th>\n",
       "      <td>62fb330c3e3ed0612fbc9fe4</td>\n",
       "      <td>南投縣</td>\n",
       "      <td>魚池鄉</td>\n",
       "      <td>2022-08-19</td>\n",
       "      <td>24</td>\n",
       "    </tr>\n",
       "    <tr>\n",
       "      <th>364</th>\n",
       "      <td>62fb330c3e3ed0612fbc9fea</td>\n",
       "      <td>南投縣</td>\n",
       "      <td>國姓鄉</td>\n",
       "      <td>2022-08-19</td>\n",
       "      <td>27</td>\n",
       "    </tr>\n",
       "    <tr>\n",
       "      <th>365</th>\n",
       "      <td>62fb330c3e3ed0612fbc9ff0</td>\n",
       "      <td>南投縣</td>\n",
       "      <td>水里鄉</td>\n",
       "      <td>2022-08-19</td>\n",
       "      <td>27</td>\n",
       "    </tr>\n",
       "    <tr>\n",
       "      <th>366</th>\n",
       "      <td>62fb330c3e3ed0612fbc9ff6</td>\n",
       "      <td>南投縣</td>\n",
       "      <td>信義鄉</td>\n",
       "      <td>2022-08-19</td>\n",
       "      <td>25</td>\n",
       "    </tr>\n",
       "    <tr>\n",
       "      <th>367</th>\n",
       "      <td>62fb330c3e3ed0612fbc9ffc</td>\n",
       "      <td>南投縣</td>\n",
       "      <td>仁愛鄉</td>\n",
       "      <td>2022-08-19</td>\n",
       "      <td>20</td>\n",
       "    </tr>\n",
       "  </tbody>\n",
       "</table>\n",
       "<p>368 rows × 5 columns</p>\n",
       "</div>"
      ],
      "text/plain": [
       "                          _id city town        date temp\n",
       "0    62fb330c3e3ed0612fbc9762  桃園市  桃園區  2022-08-19   32\n",
       "1    62fb330c3e3ed0612fbc9768  桃園市  中壢區  2022-08-19   31\n",
       "2    62fb330c3e3ed0612fbc976e  桃園市  大溪區  2022-08-19   30\n",
       "3    62fb330c3e3ed0612fbc9774  桃園市  楊梅區  2022-08-19   29\n",
       "4    62fb330c3e3ed0612fbc977a  桃園市  蘆竹區  2022-08-19   32\n",
       "..                        ...  ...  ...         ...  ...\n",
       "363  62fb330c3e3ed0612fbc9fe4  南投縣  魚池鄉  2022-08-19   24\n",
       "364  62fb330c3e3ed0612fbc9fea  南投縣  國姓鄉  2022-08-19   27\n",
       "365  62fb330c3e3ed0612fbc9ff0  南投縣  水里鄉  2022-08-19   27\n",
       "366  62fb330c3e3ed0612fbc9ff6  南投縣  信義鄉  2022-08-19   25\n",
       "367  62fb330c3e3ed0612fbc9ffc  南投縣  仁愛鄉  2022-08-19   20\n",
       "\n",
       "[368 rows x 5 columns]"
      ]
     },
     "execution_count": 98,
     "metadata": {},
     "output_type": "execute_result"
    }
   ],
   "source": [
    "\n",
    "database = client[\"mongo-sample\"] # SQL: Database Name \n",
    "collection = database[\"Week24_temp\"] # SQL: Table Name\n",
    "\n",
    "query = {'date': '2022-08-19'}\n",
    "records = pd.DataFrame(list(collection.find(query)))\n",
    "records"
   ]
  },
  {
   "cell_type": "code",
   "execution_count": null,
   "metadata": {},
   "outputs": [],
   "source": []
  }
 ],
 "metadata": {
  "kernelspec": {
   "display_name": "Python 3",
   "language": "python",
   "name": "python3"
  },
  "language_info": {
   "codemirror_mode": {
    "name": "ipython",
    "version": 3
   },
   "file_extension": ".py",
   "mimetype": "text/x-python",
   "name": "python",
   "nbconvert_exporter": "python",
   "pygments_lexer": "ipython3",
   "version": "3.7.4"
  }
 },
 "nbformat": 4,
 "nbformat_minor": 2
}
